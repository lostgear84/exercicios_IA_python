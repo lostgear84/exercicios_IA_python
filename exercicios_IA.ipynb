{
  "nbformat": 4,
  "nbformat_minor": 0,
  "metadata": {
    "colab": {
      "provenance": []
    },
    "kernelspec": {
      "name": "python3",
      "display_name": "Python 3"
    },
    "language_info": {
      "name": "python"
    }
  },
  "cells": [
    {
      "cell_type": "code",
      "execution_count": 1,
      "metadata": {
        "id": "VV17ZGDzqknT"
      },
      "outputs": [],
      "source": [
        "import numpy as np\n",
        "import random as rn"
      ]
    },
    {
      "cell_type": "markdown",
      "source": [
        "Grupo 1"
      ],
      "metadata": {
        "id": "efHDi6qPvjIo"
      }
    },
    {
      "cell_type": "code",
      "source": [
        "numero = int(input(\"Digite um número: \"))\n",
        "print(\"O dobro do valor digitado é: \", numero *2)"
      ],
      "metadata": {
        "colab": {
          "base_uri": "https://localhost:8080/"
        },
        "id": "jLSj1O79r9Lm",
        "outputId": "909982d6-6719-4769-a594-2083333b5a2a"
      },
      "execution_count": 10,
      "outputs": [
        {
          "output_type": "stream",
          "name": "stdout",
          "text": [
            "Digite um número: 5\n",
            "O dobro do valor digitado é:  10\n"
          ]
        }
      ]
    },
    {
      "cell_type": "code",
      "source": [
        "name = input(\"Digite seu nome: \")\n",
        "print(\"Olá\", name)"
      ],
      "metadata": {
        "colab": {
          "base_uri": "https://localhost:8080/"
        },
        "id": "0aaJaVmJskuY",
        "outputId": "fe46a129-4b92-4f00-f09c-50e1d92c8ad5"
      },
      "execution_count": 11,
      "outputs": [
        {
          "output_type": "stream",
          "name": "stdout",
          "text": [
            "Digite seu nome: Erick\n",
            "Olá Erick\n"
          ]
        }
      ]
    },
    {
      "cell_type": "code",
      "source": [
        "numA = int(input(\"Digite um número: \"))\n",
        "numB = int(input(\"Digite outro número: \"))\n",
        "print(\"A soma dos dois números é: \", numA + numB)"
      ],
      "metadata": {
        "colab": {
          "base_uri": "https://localhost:8080/"
        },
        "id": "pHQBvonQsrLI",
        "outputId": "f42e3bcb-0a41-4b2d-967b-43efda6ecd8f"
      },
      "execution_count": 12,
      "outputs": [
        {
          "output_type": "stream",
          "name": "stdout",
          "text": [
            "Digite um número: 5\n",
            "Digite outro número: 6\n",
            "A soma dos dois números é:  11\n"
          ]
        }
      ]
    },
    {
      "cell_type": "code",
      "source": [
        "decimal_num = float(input(\"Digite um número decimal: \"))\n",
        "integer_num = int(decimal_num)\n",
        "print(\"O número inteiro é:\", integer_num)"
      ],
      "metadata": {
        "colab": {
          "base_uri": "https://localhost:8080/"
        },
        "id": "hxUEOuCRsyqB",
        "outputId": "f2da9694-2885-45fa-9653-f877056776db"
      },
      "execution_count": 14,
      "outputs": [
        {
          "output_type": "stream",
          "name": "stdout",
          "text": [
            "Digite um número decimal: 25.5896\n",
            "O número inteiro é: 25\n"
          ]
        }
      ]
    },
    {
      "cell_type": "code",
      "source": [
        "name = input(\"Digite seu nome: \")\n",
        "age = int(input(\"Digite sua idade: \"))\n",
        "print(\"Olá\", name, \"você tem\", age, \"anos.\")"
      ],
      "metadata": {
        "colab": {
          "base_uri": "https://localhost:8080/"
        },
        "id": "INcxdG2vtH96",
        "outputId": "50bdad21-61bd-442c-e272-55803f77c183"
      },
      "execution_count": 15,
      "outputs": [
        {
          "output_type": "stream",
          "name": "stdout",
          "text": [
            "Digite seu nome: Erick\n",
            "Digite sua idade: 20\n",
            "Olá Erick você tem 20 anos.\n"
          ]
        }
      ]
    },
    {
      "cell_type": "code",
      "source": [
        "peso = input(\"Digite seu peso: \")\n",
        "altura = input(\"Digite sua altura: \")\n",
        "imc = float(peso) / (float(altura) ** 2)\n",
        "print(\"Seu IMC é:\", imc)"
      ],
      "metadata": {
        "colab": {
          "base_uri": "https://localhost:8080/"
        },
        "id": "2aFlrcZetQZT",
        "outputId": "2e9d68dc-9931-4e59-c4a7-baa7cd9d9198"
      },
      "execution_count": 18,
      "outputs": [
        {
          "output_type": "stream",
          "name": "stdout",
          "text": [
            "Digite seu peso: 130\n",
            "Digite sua altura: 1.88\n",
            "Seu IMC é: 36.781349026708924\n"
          ]
        }
      ]
    },
    {
      "cell_type": "code",
      "source": [
        "numA = int(input(\"Digite um número: \"))\n",
        "print(\"A raíz quadrada do número digitado é\", numA**2, \"A raiz cúbica do número digitado é\", numA**3)"
      ],
      "metadata": {
        "colab": {
          "base_uri": "https://localhost:8080/"
        },
        "id": "bbLRGno0tcVb",
        "outputId": "fc8d82c0-18e5-4870-dcce-fa633442b5ea"
      },
      "execution_count": 24,
      "outputs": [
        {
          "output_type": "stream",
          "name": "stdout",
          "text": [
            "Digite um número: 4\n",
            "A raíz quadrada do número digitado é 16 A raiz cúbica do número digitado é 64\n"
          ]
        }
      ]
    },
    {
      "cell_type": "code",
      "source": [
        "nome = input(\"Digite seu nome: \")\n",
        "idade = input(\"Digite sua idade: \")\n",
        "email = input(\"Digite seu email: \")\n",
        "print(\"Olá\", nome, \"você tem\", idade, \"anos e seu email é\", email)\n"
      ],
      "metadata": {
        "colab": {
          "base_uri": "https://localhost:8080/"
        },
        "id": "GFJVHsvfuceP",
        "outputId": "f17617e3-903e-4f42-ee96-870fe0bbd5bc"
      },
      "execution_count": 25,
      "outputs": [
        {
          "output_type": "stream",
          "name": "stdout",
          "text": [
            "Digite seu nome: Erick\n",
            "Digite sua idade: 20\n",
            "Digite seu email: erick.miguel@gmail.com\n",
            "Olá Erick você tem 20 anos e seu email é erick.miguel@gmail.com\n"
          ]
        }
      ]
    },
    {
      "cell_type": "code",
      "source": [
        "cidade = input(\"Digite o nome da sua cidade: \")\n",
        "print(\"A cidade digitada foi\", cidade)"
      ],
      "metadata": {
        "colab": {
          "base_uri": "https://localhost:8080/"
        },
        "id": "cBUCpsgDu0vX",
        "outputId": "1f1447d3-71b4-482e-ade9-dbdf0103342b"
      },
      "execution_count": 26,
      "outputs": [
        {
          "output_type": "stream",
          "name": "stdout",
          "text": [
            "Digite o nome da sua cidade: Campinas\n",
            "A cidade digitada foi Campinas\n"
          ]
        }
      ]
    },
    {
      "cell_type": "code",
      "source": [
        "nascimento = input(\"Digite o ano em que você nasceu: \")\n",
        "idade = 2025 - int(nascimento)\n",
        "print(\"Você tem\", idade, \"anos.\")\n"
      ],
      "metadata": {
        "colab": {
          "base_uri": "https://localhost:8080/"
        },
        "id": "1R4EgNM8vAg_",
        "outputId": "6753cb74-2304-40ef-c325-16b238143c3e"
      },
      "execution_count": 27,
      "outputs": [
        {
          "output_type": "stream",
          "name": "stdout",
          "text": [
            "Digite o ano em que você nasceu: 1984\n",
            "Você tem 41 anos.\n"
          ]
        }
      ]
    },
    {
      "cell_type": "markdown",
      "source": [
        "Grupo 2"
      ],
      "metadata": {
        "id": "nE7pxXV_vgrg"
      }
    },
    {
      "cell_type": "code",
      "source": [
        "num_str = input(\"Digite um número: \")\n",
        "num_int = int(num_str)\n",
        "print(\"O número convertido para inteiro é:\", num_int)"
      ],
      "metadata": {
        "colab": {
          "base_uri": "https://localhost:8080/"
        },
        "id": "fY2IaU0WvgCh",
        "outputId": "c21e01ba-8e26-46ba-b69f-355aab20d4dc"
      },
      "execution_count": 30,
      "outputs": [
        {
          "output_type": "stream",
          "name": "stdout",
          "text": [
            "Digite um número: 25\n",
            "O número convertido para inteiro é: 25\n"
          ]
        }
      ]
    },
    {
      "cell_type": "code",
      "source": [
        "num_float = float(input(\"Digite um número: \"))\n",
        "num_str = str(num_float)\n",
        "print(\"O número convertido para string é:\", num_str)"
      ],
      "metadata": {
        "colab": {
          "base_uri": "https://localhost:8080/"
        },
        "id": "V1kJt7nWwucc",
        "outputId": "f57a24a3-5a13-4daa-9e72-f20026528071"
      },
      "execution_count": 31,
      "outputs": [
        {
          "output_type": "stream",
          "name": "stdout",
          "text": [
            "Digite um número: 25.5\n",
            "O número convertido para string é: 25.5\n"
          ]
        }
      ]
    },
    {
      "cell_type": "code",
      "source": [
        "numA_str = input(\"Digite um número: \")\n",
        "numB_float = float(input(\"Digite outro número: \"))\n",
        "soma = float(numA_str) + numB_float\n",
        "media = soma / 2\n",
        "diferença = soma - numB_float*2\n",
        "print(\"A soma dos dois números é:\", soma)\n",
        "print(\"A média dos dois números é:\", media)\n",
        "print(\"A diferença entre os dois números é:\", diferença)\n"
      ],
      "metadata": {
        "colab": {
          "base_uri": "https://localhost:8080/"
        },
        "id": "sJT1qJn8w80k",
        "outputId": "1a49bdd9-e713-49ef-9281-a19646fd69e4"
      },
      "execution_count": 34,
      "outputs": [
        {
          "output_type": "stream",
          "name": "stdout",
          "text": [
            "Digite um número: 5\n",
            "Digite outro número: 2\n",
            "A soma dos dois números é: 7.0\n",
            "A média dos dois números é: 3.5\n",
            "A diferença entre os dois números é: 3.0\n"
          ]
        }
      ]
    },
    {
      "cell_type": "code",
      "source": [
        "num_str = input(\"Digite um número inteiro: \")\n",
        "num_bol = bool(num_str)\n",
        "print(\"O número convertido para booleano é:\", num_bol)"
      ],
      "metadata": {
        "colab": {
          "base_uri": "https://localhost:8080/"
        },
        "id": "YkKZkiQXxy4A",
        "outputId": "e2399025-ade2-453a-ba5b-9c6a4831dc2e"
      },
      "execution_count": 35,
      "outputs": [
        {
          "output_type": "stream",
          "name": "stdout",
          "text": [
            "Digite um número: 25\n",
            "O número convertido para booleano é: True\n"
          ]
        }
      ]
    },
    {
      "cell_type": "code",
      "source": [
        "num_float = float(input(\"Digite um número decimal: \"))\n",
        "round_num = round(num_float,2)\n",
        "print(\"O número arredondado é:\", round_num)\n"
      ],
      "metadata": {
        "colab": {
          "base_uri": "https://localhost:8080/"
        },
        "id": "jtqq1HKMyAfK",
        "outputId": "f9de421c-581d-4cfd-8b48-98d5849248de"
      },
      "execution_count": 38,
      "outputs": [
        {
          "output_type": "stream",
          "name": "stdout",
          "text": [
            "Digite um número decimal: 25.98764\n",
            "O número arredondado é: 25.99\n"
          ]
        }
      ]
    },
    {
      "cell_type": "code",
      "source": [
        "preço = float(input(\"Digite o valor do produto: \"))\n",
        "valor_final = round(preço)\n",
        "print(\"O valor final do produto é:\", valor_final)"
      ],
      "metadata": {
        "colab": {
          "base_uri": "https://localhost:8080/"
        },
        "id": "pZRnh9Lsywcp",
        "outputId": "306d998c-cef6-4111-fff8-0870d9a0e496"
      },
      "execution_count": 40,
      "outputs": [
        {
          "output_type": "stream",
          "name": "stdout",
          "text": [
            "Digite o valor do produto: 25.54\n",
            "O valor final do produto é: 26\n"
          ]
        }
      ]
    },
    {
      "cell_type": "code",
      "source": [
        "nome = input(\"Digite seu nome: \")\n",
        "idade = input(\"Digite sua idade: \")\n",
        "frase = \"Meu nome é {} e eu tenho {} anos.\".format(nome, idade)\n",
        "print(frase)"
      ],
      "metadata": {
        "colab": {
          "base_uri": "https://localhost:8080/"
        },
        "id": "H0WCAsbdzLdS",
        "outputId": "4e959e02-1980-47b8-e7d1-c48001278973"
      },
      "execution_count": 41,
      "outputs": [
        {
          "output_type": "stream",
          "name": "stdout",
          "text": [
            "Digite seu nome: Erick\n",
            "Digite sua idade: 20\n",
            "Meu nome é Erick e eu tenho 20 anos.\n"
          ]
        }
      ]
    },
    {
      "cell_type": "code",
      "source": [
        "numA = int(input(\"Digite um número: \"))\n",
        "numB = int(input(\"Digite outro número: \"))\n",
        "numC = int(input(\"Digite mais um número: \"))\n",
        "soma = numA + numB + numC\n",
        "media = float(soma / 3)\n",
        "print(\"A soma dos três números é:\", soma)\n",
        "print(\"A média dos três números é:\", media)"
      ],
      "metadata": {
        "colab": {
          "base_uri": "https://localhost:8080/"
        },
        "id": "gYZ2w4jP1Jc5",
        "outputId": "770b6a1f-64eb-4960-fb04-3f2da530f8ed"
      },
      "execution_count": 42,
      "outputs": [
        {
          "output_type": "stream",
          "name": "stdout",
          "text": [
            "Digite um número: 2\n",
            "Digite outro número: 5\n",
            "Digite mais um número: 7\n",
            "A soma dos três números é: 14\n",
            "A média dos três números é: 4.666666666666667\n"
          ]
        }
      ]
    },
    {
      "cell_type": "code",
      "source": [
        "valor = input(\"Digite um valor: \")\n",
        "print(\"O tipo do valor é:\", type(valor))"
      ],
      "metadata": {
        "colab": {
          "base_uri": "https://localhost:8080/"
        },
        "id": "QcU7eNaO1yOy",
        "outputId": "f25db7e9-e146-42dd-f9c2-ea759ecb19bf"
      },
      "execution_count": 43,
      "outputs": [
        {
          "output_type": "stream",
          "name": "stdout",
          "text": [
            "Digite um valor: 25\n",
            "O tipo do valor é: <class 'str'>\n"
          ]
        }
      ]
    },
    {
      "cell_type": "code",
      "source": [
        "texto = input(\"Digite algo (ou deixe vazio): \")\n",
        "if texto:\n",
        "    print(\"A string é considerada True\")\n",
        "else:\n",
        "    print(\"A string é considerada False\")"
      ],
      "metadata": {
        "colab": {
          "base_uri": "https://localhost:8080/"
        },
        "id": "UqXjO5h612wq",
        "outputId": "b06718db-22bb-4400-8b65-cdd00283f484"
      },
      "execution_count": 44,
      "outputs": [
        {
          "output_type": "stream",
          "name": "stdout",
          "text": [
            "Digite algo (ou deixe vazio): \n",
            "A string é considerada False\n"
          ]
        }
      ]
    },
    {
      "cell_type": "markdown",
      "source": [
        "Grupo 3"
      ],
      "metadata": {
        "id": "dIl7KtPSzL9C"
      }
    },
    {
      "cell_type": "code",
      "source": [
        "from re import sub\n",
        "numA = int(input(\"Digite um número: \"))\n",
        "numB = int(input(\"Digite outro número: \"))\n",
        "soma = numA + numB\n",
        "subtração = numA - numB\n",
        "multiplicação = numA * numB\n",
        "divisão = numA / numB\n",
        "print(\"A soma dos dois números é:\", soma)\n",
        "print(\"A subtração dos dois números é:\", subtração)\n",
        "print(\"A multiplicação dos dois números é:\", multiplicação)\n",
        "print(\"A divisão dos dois números é:\", divisão)"
      ],
      "metadata": {
        "colab": {
          "base_uri": "https://localhost:8080/"
        },
        "id": "7RBxl--J2TUT",
        "outputId": "9334f75c-9739-4892-c792-183c42cc4d99"
      },
      "execution_count": 45,
      "outputs": [
        {
          "output_type": "stream",
          "name": "stdout",
          "text": [
            "Digite um número: 5\n",
            "Digite outro número: 6\n",
            "A soma dos dois números é: 11\n",
            "A subtração dos dois números é: -1\n",
            "A multiplicação dos dois números é: 30\n",
            "A divisão dos dois números é: 0.8333333333333334\n"
          ]
        }
      ]
    },
    {
      "cell_type": "code",
      "source": [
        "numA = int(input(\"Digite um número: \"))\n",
        "numB = int(input(\"Digite outro número: \"))\n",
        "divisão = int(numA / numB)\n",
        "resto = numA % numB\n",
        "print(\"A divisão dos dois números é:\", divisão)\n",
        "print(\"O resto da divisão dos dois números é:\", resto)"
      ],
      "metadata": {
        "colab": {
          "base_uri": "https://localhost:8080/"
        },
        "id": "fHxI5yWs2fOM",
        "outputId": "0949673e-8b5b-448c-b408-e2f7195d48ad"
      },
      "execution_count": 47,
      "outputs": [
        {
          "output_type": "stream",
          "name": "stdout",
          "text": [
            "Digite um número: 5\n",
            "Digite outro número: 2\n",
            "A divisão dos dois números é: 2\n",
            "O resto da divisão dos dois números é: 1\n"
          ]
        }
      ]
    },
    {
      "cell_type": "code",
      "source": [
        "numA = int(input(\"Digite um número: \"))\n",
        "numB = int(input(\"Digite outro número: \"))\n",
        "potencia = numA ** numB\n",
        "print(\"A potência do primeiro número elevado ao segundo número é:\", potencia)"
      ],
      "metadata": {
        "colab": {
          "base_uri": "https://localhost:8080/"
        },
        "id": "d_utCt5F224j",
        "outputId": "7090fd4a-583f-4cda-c169-0269254f9939"
      },
      "execution_count": 48,
      "outputs": [
        {
          "output_type": "stream",
          "name": "stdout",
          "text": [
            "Digite um número: 5\n",
            "Digite outro número: 2\n",
            "A potência do primeiro número elevado ao segundo número é: 25\n"
          ]
        }
      ]
    },
    {
      "cell_type": "code",
      "source": [
        "NumA = int(input(\"Digite um número: \"))\n",
        "if NumA % 2 == 0:\n",
        "    print(\"O número é par\")\n",
        "else:\n",
        "    print(\"O número é ímpar\")\n"
      ],
      "metadata": {
        "colab": {
          "base_uri": "https://localhost:8080/"
        },
        "id": "0EwFGnEg2-q8",
        "outputId": "edac9d33-d672-40e0-be8c-c55c873dddc8"
      },
      "execution_count": 49,
      "outputs": [
        {
          "output_type": "stream",
          "name": "stdout",
          "text": [
            "Digite um número: 5\n",
            "O número é ímpar\n"
          ]
        }
      ]
    },
    {
      "cell_type": "code",
      "source": [
        "nota1 = float(input(\"Digite a primeira nota: \"))\n",
        "nota2 = float(input(\"Digite a segunda nota: \"))\n",
        "nota3 = float(input(\"Digite a terceira nota: \"))\n",
        "media = round((nota1 + nota2 + nota3) / 3,2)\n",
        "print(\"A média das notas é:\", media)\n"
      ],
      "metadata": {
        "colab": {
          "base_uri": "https://localhost:8080/"
        },
        "id": "f4bbhTf63WBU",
        "outputId": "919f6d7a-d33b-4802-ba51-020f424c34a2"
      },
      "execution_count": 51,
      "outputs": [
        {
          "output_type": "stream",
          "name": "stdout",
          "text": [
            "Digite a primeira nota: 8.5\n",
            "Digite a segunda nota: 7\n",
            "Digite a terceira nota: 5\n",
            "A média das notas é: 6.83\n"
          ]
        }
      ]
    },
    {
      "cell_type": "code",
      "source": [
        "preço = float(input(\"Digite o preço do produto: R$ \"))\n",
        "desconto = preço * 0.95\n",
        "preço_final = round(preço - desconto,2)\n",
        "print(\"O preço do produto com desconto é: R$\",desconto)\n"
      ],
      "metadata": {
        "colab": {
          "base_uri": "https://localhost:8080/"
        },
        "id": "v2kkwYSx3sn0",
        "outputId": "0fdecec4-811b-4a2f-b639-59697378cf85"
      },
      "execution_count": 55,
      "outputs": [
        {
          "output_type": "stream",
          "name": "stdout",
          "text": [
            "Digite o preço do produto: R$ 300\n",
            "O preço do produto com desconto é: R$ 285.0\n"
          ]
        }
      ]
    },
    {
      "cell_type": "code",
      "source": [
        "numA = int(input(\"Digite um número: \"))\n",
        "numB = int(input(\"Digite outro número: \"))\n",
        "if numA > numB:\n",
        "    print(\"O primeiro número é maior que o segundo\")\n",
        "else:\n",
        "    print(\"O segundo número é maior que o primeiro\")\n"
      ],
      "metadata": {
        "colab": {
          "base_uri": "https://localhost:8080/"
        },
        "id": "AZzFnQSD4ncL",
        "outputId": "9164efa7-9a76-48ff-b81a-e613c6fdd302"
      },
      "execution_count": 56,
      "outputs": [
        {
          "output_type": "stream",
          "name": "stdout",
          "text": [
            "Digite um número: 8\n",
            "Digite outro número: 9\n",
            "O segundo número é maior que o primeiro\n"
          ]
        }
      ]
    },
    {
      "cell_type": "code",
      "source": [
        "base = int(input(\"Digite a base do retângulo: \"))\n",
        "altura = int(input(\"Digite a altura do retângulo: \"))\n",
        "area = (base * altura)\n",
        "print(\"A área do retângulo é:\", area)\n"
      ],
      "metadata": {
        "colab": {
          "base_uri": "https://localhost:8080/"
        },
        "id": "DLDldQ7A4xjY",
        "outputId": "d827060b-0fa5-47fe-f1fa-ed67530dc1fb"
      },
      "execution_count": 58,
      "outputs": [
        {
          "output_type": "stream",
          "name": "stdout",
          "text": [
            "Digite a base do retângulo: 25\n",
            "Digite a altura do retângulo: 6\n",
            "A área do retângulo é: 150\n"
          ]
        }
      ]
    },
    {
      "cell_type": "code",
      "source": [
        "valor = int(input(\"Digite um valor: \"))\n",
        "imposto = valor * 0.12\n",
        "valor_final = valor + imposto\n",
        "print(\"O valor final com o imposto é:\", valor_final)\n",
        "\n"
      ],
      "metadata": {
        "colab": {
          "base_uri": "https://localhost:8080/"
        },
        "id": "iHeuLqUD5GsS",
        "outputId": "2ab079bb-6067-405a-f260-32eb7bbc1d79"
      },
      "execution_count": 59,
      "outputs": [
        {
          "output_type": "stream",
          "name": "stdout",
          "text": [
            "Digite um valor: 100\n",
            "O valor final com o imposto é: 112.0\n"
          ]
        }
      ]
    },
    {
      "cell_type": "code",
      "source": [
        "temp = float(input(\"Digite a temperatura em graus Celsius: \"))\n",
        "temp_f = (temp * 9/5) + 32\n",
        "print(\"A temperatura em graus Fahrenheit é:\", temp_f)"
      ],
      "metadata": {
        "colab": {
          "base_uri": "https://localhost:8080/"
        },
        "id": "CVoFN77r5nE8",
        "outputId": "9fedf193-72fe-4a7a-c858-fda693a8605d"
      },
      "execution_count": 61,
      "outputs": [
        {
          "output_type": "stream",
          "name": "stdout",
          "text": [
            "Digite a temperatura em graus Celsius: 21\n",
            "A temperatura em graus Fahrenheit é: 69.8\n"
          ]
        }
      ]
    }
  ]
}