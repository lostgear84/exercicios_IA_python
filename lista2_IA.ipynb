{
  "nbformat": 4,
  "nbformat_minor": 0,
  "metadata": {
    "colab": {
      "provenance": [],
      "authorship_tag": "ABX9TyMbd7fj2j3Mw9+vbwR8+/1W",
      "include_colab_link": true
    },
    "kernelspec": {
      "name": "python3",
      "display_name": "Python 3"
    },
    "language_info": {
      "name": "python"
    }
  },
  "cells": [
    {
      "cell_type": "markdown",
      "metadata": {
        "id": "view-in-github",
        "colab_type": "text"
      },
      "source": [
        "<a href=\"https://colab.research.google.com/github/lostgear84/exercicios_IA_python/blob/main/lista2_IA.ipynb\" target=\"_parent\"><img src=\"https://colab.research.google.com/assets/colab-badge.svg\" alt=\"Open In Colab\"/></a>"
      ]
    },
    {
      "cell_type": "markdown",
      "source": [
        "1.\tNúmero Positivo:\n",
        "Solicite um número ao usuário e, se ele for maior que 0, exiba \"Número positivo!\".\n"
      ],
      "metadata": {
        "id": "J18gn5pJL5Vh"
      }
    },
    {
      "cell_type": "code",
      "execution_count": null,
      "metadata": {
        "colab": {
          "base_uri": "https://localhost:8080/"
        },
        "id": "tNTX5fgYLxbB",
        "outputId": "ece1f898-137a-44c3-a810-e57bc38378c4"
      },
      "outputs": [
        {
          "output_type": "stream",
          "name": "stdout",
          "text": [
            "Digite um número: 5\n",
            "Número positivo!\n"
          ]
        }
      ],
      "source": [
        "num = input(\"Digite um número: \")\n",
        "num = int(num)\n",
        "if num > 0:\n",
        "  print(\"Número positivo!\")"
      ]
    },
    {
      "cell_type": "markdown",
      "source": [
        "2.\tNúmero Par:\n",
        "Peça ao usuário um número e, se o resto da divisão por 2 for 0, exiba \"Número par!\".\n"
      ],
      "metadata": {
        "id": "MgmO0g1fMJUI"
      }
    },
    {
      "cell_type": "code",
      "source": [
        "num = input(\"Digite um número: \")\n",
        "num = int(num)\n",
        "if num % 2 == 0:\n",
        "  print(\"Número par!\")"
      ],
      "metadata": {
        "colab": {
          "base_uri": "https://localhost:8080/"
        },
        "id": "pnPU843XML73",
        "outputId": "0aef134b-9dea-4f68-a4b4-e2c2af7f74d9"
      },
      "execution_count": null,
      "outputs": [
        {
          "name": "stdout",
          "output_type": "stream",
          "text": [
            "Digite um número: 5\n"
          ]
        }
      ]
    },
    {
      "cell_type": "markdown",
      "source": [
        "3.\tContém a Letra 'a':\n",
        "Solicite uma palavra e, se ela contiver a letra \"a\" (maiúscula ou minúscula), exiba \"Contém a letra a!\".\n"
      ],
      "metadata": {
        "id": "0y5EN6HQMUVQ"
      }
    },
    {
      "cell_type": "code",
      "source": [
        "word = input(\"Digite uma palavra: \")\n",
        "if \"a\" in word or \"A\" in word:\n",
        "  print(\"Contém a letra a!\")"
      ],
      "metadata": {
        "colab": {
          "base_uri": "https://localhost:8080/"
        },
        "id": "s-q5ZUGFMVtf",
        "outputId": "37fb0e75-9130-42af-8d3b-9aa8c6d3fbc8"
      },
      "execution_count": null,
      "outputs": [
        {
          "name": "stdout",
          "output_type": "stream",
          "text": [
            "Digite uma palavra: ovo\n"
          ]
        }
      ]
    },
    {
      "cell_type": "markdown",
      "source": [
        "4.\tTemperatura Alta:\n",
        "Peça a temperatura e, se ela for maior que 30°C, exiba \"Está quente!\".\n"
      ],
      "metadata": {
        "id": "YTU7eWQAMfpP"
      }
    },
    {
      "cell_type": "code",
      "source": [
        "temp = input(\"Digite a temperatura: \")\n",
        "temp = int(temp)\n",
        "if temp > 30:\n",
        "  print(\"Está quente!\")"
      ],
      "metadata": {
        "colab": {
          "base_uri": "https://localhost:8080/"
        },
        "id": "Cczu8IimMgP_",
        "outputId": "063d56bd-1fd0-4b28-92c2-9e6126419718"
      },
      "execution_count": null,
      "outputs": [
        {
          "output_type": "stream",
          "name": "stdout",
          "text": [
            "Digite a temperatura: 32\n",
            "Está quente!\n"
          ]
        }
      ]
    },
    {
      "cell_type": "markdown",
      "source": [
        "5.\tNúmero Igual a 10:\n",
        "Solicite um número e, se ele for igual a 10, exiba \"Número é 10!\".\n"
      ],
      "metadata": {
        "id": "NiD8_tf-MpR2"
      }
    },
    {
      "cell_type": "code",
      "source": [
        "num = input(\"Digite um número: \")\n",
        "num = int(num)\n",
        "if num == 10:\n",
        "  print(\"Número é 10!\")"
      ],
      "metadata": {
        "colab": {
          "base_uri": "https://localhost:8080/"
        },
        "id": "wOtgQby8MqN_",
        "outputId": "5fee39f4-0e9d-40e9-9c4f-8c804971a7e1"
      },
      "execution_count": null,
      "outputs": [
        {
          "output_type": "stream",
          "name": "stdout",
          "text": [
            "Digite um número: 10\n",
            "Número é 10!\n"
          ]
        }
      ]
    },
    {
      "cell_type": "markdown",
      "source": [
        "6.\tPar ou Ímpar:\n",
        "Solicite um número inteiro. Se o número for par, exiba \"Par\"; caso contrário, exiba \"Ímpar\".\n"
      ],
      "metadata": {
        "id": "zbq2gfJjM4WP"
      }
    },
    {
      "cell_type": "code",
      "source": [
        "num = input(\"Digite um número: \")\n",
        "num = int(num)\n",
        "if num % 2 == 0:\n",
        "  print(\"Par\")\n",
        "else:\n",
        "  print(\"Ímpar\")"
      ],
      "metadata": {
        "id": "VkYPftcJM43-"
      },
      "execution_count": null,
      "outputs": []
    },
    {
      "cell_type": "markdown",
      "source": [
        "7.\tValidação de Senha:\n",
        "Peça uma senha ao usuário e compare com uma senha pré-definida (por exemplo, \"seguro123\"). Se for igual, exiba \"Acesso concedido!\"; senão, \"Acesso negado!\".\n"
      ],
      "metadata": {
        "id": "Ymz3u4-bNAJm"
      }
    },
    {
      "cell_type": "code",
      "source": [
        "password = input(\"Digite a senha: \")\n",
        "if password == \"seguro123\":\n",
        "  print(\"Acesso concedido!\")\n",
        "else:\n",
        "  print(\"Acesso negado!\")"
      ],
      "metadata": {
        "colab": {
          "base_uri": "https://localhost:8080/"
        },
        "id": "b4P0NdiENBDe",
        "outputId": "e4328b4d-9f4a-4259-c3f1-7a163692d1d3"
      },
      "execution_count": null,
      "outputs": [
        {
          "output_type": "stream",
          "name": "stdout",
          "text": [
            "Digite a senha: seguro123\n",
            "Acesso concedido!\n"
          ]
        }
      ]
    },
    {
      "cell_type": "markdown",
      "source": [
        "8.\tMaior ou Menor de Idade:\n",
        "Solicite o ano de nascimento do usuário. Se o usuário tiver 18 anos ou mais, exiba \"Maior de idade\"; caso contrário, \"Menor de idade\".\n"
      ],
      "metadata": {
        "id": "kUIRqN0PNQEl"
      }
    },
    {
      "cell_type": "code",
      "source": [
        "nasc = input(\"Digite o ano de nascimento: \")\n",
        "nasc = int(nasc)\n",
        "if 2023 - nasc >= 18:\n",
        "  print(\"Maior de idade\")\n",
        "else:\n",
        "  print(\"Menor de idade\")"
      ],
      "metadata": {
        "id": "RuJzSZvUNQn1"
      },
      "execution_count": null,
      "outputs": []
    },
    {
      "cell_type": "markdown",
      "source": [
        "9.\tNúmero Negativo ou Não:\n",
        "Peça um número e, se ele for negativo, exiba \"Número negativo\"; senão, exiba \"Número não é negativo\".\n"
      ],
      "metadata": {
        "id": "q9c2m4bENZyW"
      }
    },
    {
      "cell_type": "code",
      "source": [
        "num = input(\"Digite um número: \")\n",
        "num = int(num)\n",
        "if num < 0:\n",
        "  print(\"Número negativo\")\n",
        "else:\n",
        "  print(\"Número não negativo!\")"
      ],
      "metadata": {
        "colab": {
          "base_uri": "https://localhost:8080/"
        },
        "id": "sKtdcTsyNaU-",
        "outputId": "2caf4b64-3512-454d-a0dc-baa7b924f3fc"
      },
      "execution_count": null,
      "outputs": [
        {
          "output_type": "stream",
          "name": "stdout",
          "text": [
            "Digite um número: 9\n",
            "Número não negativo!\n"
          ]
        }
      ]
    },
    {
      "cell_type": "markdown",
      "source": [
        "10.\tTexto Vazio ou Não:\n",
        "Solicite ao usuário que digite um texto. Se o usuário não digitar nada, exiba \"Nenhum texto digitado\"; caso contrário, \"Texto recebido\".\n"
      ],
      "metadata": {
        "id": "7w1QmH8MNq9W"
      }
    },
    {
      "cell_type": "code",
      "source": [
        "texto = input(\"Digite um texto: \")\n",
        "if texto == \"\":\n",
        "  print(\"Nenhum texto digitado\")\n",
        "else:\n",
        "  print(\"Texto recebido\")"
      ],
      "metadata": {
        "colab": {
          "base_uri": "https://localhost:8080/"
        },
        "id": "ozkjRAgDNrj-",
        "outputId": "e52a4de3-862d-4afa-c87f-55e24087dfe4"
      },
      "execution_count": null,
      "outputs": [
        {
          "output_type": "stream",
          "name": "stdout",
          "text": [
            "Digite um texto: \n",
            "Nenhum texto digitado\n"
          ]
        }
      ]
    },
    {
      "cell_type": "markdown",
      "source": [
        "11.\tClassificação de Notas:\n",
        "Peça a nota do aluno e classifique:\n",
        "o\tNota ≥ 90: \"Conceito A\"\n"
      ],
      "metadata": {
        "id": "-nN83gGqPav2"
      }
    },
    {
      "cell_type": "code",
      "source": [
        "nota = input(\"Digite a nota: \")\n",
        "nota = int(nota)\n",
        "if nota >= 9:\n",
        "  print(\"Conceito A\")\n",
        "elif nota >= 8:\n",
        "  print(\"Conceito B\")\n",
        "elif nota >= 7:\n",
        "  print(\"Conceito C\")\n",
        "else:\n",
        "  print(\"Conceito D\")\n",
        "\n"
      ],
      "metadata": {
        "colab": {
          "base_uri": "https://localhost:8080/"
        },
        "id": "RoHFDN91PdvW",
        "outputId": "9b460b44-0618-49a0-a315-685a99a8c191"
      },
      "execution_count": null,
      "outputs": [
        {
          "output_type": "stream",
          "name": "stdout",
          "text": [
            "Digite a nota: 6\n",
            "Conceito D\n"
          ]
        }
      ]
    },
    {
      "cell_type": "markdown",
      "source": [
        "12.\tFaixa de Temperatura:\n",
        "Solicite a temperatura:\n",
        "o\tAcima de 30°C: \"Muito quente\"\n",
        "o\tEntre 15°C e 30°C: \"Temperatura agradável\"\n",
        "o\tAbaixo de 15°C: \"Frio\"\n"
      ],
      "metadata": {
        "id": "NqeKK4-mPwYG"
      }
    },
    {
      "cell_type": "code",
      "source": [
        "temp = input(\"Digite a temperatura: \")\n",
        "temp = int(temp)\n",
        "if temp > 30:\n",
        "  print(\"Muito quente\")\n",
        "elif temp >= 15:\n",
        "  print(\"Temperatura agradável\")\n",
        "else:\n",
        "  print(\"Frio\")"
      ],
      "metadata": {
        "id": "8pbBf2kuPzDl"
      },
      "execution_count": null,
      "outputs": []
    },
    {
      "cell_type": "markdown",
      "source": [
        "13.\tDesempenho do Aluno:\n",
        "Solicite uma pontuação (0 a 100):\n",
        "o\tPontuação ≥ 85: \"Excelente\"\n",
        "o\tEntre 70 e 84: \"Bom\"\n",
        "o\tEntre 50 e 69: \"Regular\"\n",
        "o\tAbaixo de 50: \"Insuficiente\"\n"
      ],
      "metadata": {
        "id": "6B4EkbGtQDX9"
      }
    },
    {
      "cell_type": "code",
      "source": [
        "nota = input(\"Digite a nota na escala de 0 a 100: \")\n",
        "nota = int(nota)\n",
        "if nota >= 85:\n",
        "  print(\"Excelente\")\n",
        "elif nota >= 70:\n",
        "  print(\"Bom\")\n",
        "elif nota >= 50:\n",
        "  print(\"Regular\")\n",
        "else:\n",
        "  print(\"Insuficiente\")"
      ],
      "metadata": {
        "id": "1MUngGcaQEil"
      },
      "execution_count": null,
      "outputs": []
    },
    {
      "cell_type": "markdown",
      "source": [
        "14.\tClima do Dia:\n",
        "Peça ao usuário para informar o tempo (ex.: \"ensolarado\", \"nublado\", \"chuvoso\") e exiba uma mensagem específica para cada caso usando elif. (Exemplo: se \"ensolarado\", exiba \"Dia perfeito para sair\"; se \"chuvoso\", \"Leve um guarda-chuva\"; senão, \"Aproveite o dia!\")\n"
      ],
      "metadata": {
        "id": "-m_qThYWQV4l"
      }
    },
    {
      "cell_type": "code",
      "source": [
        "clima = input(\"Informe como está o clima hoje ex.: ensolarado, nublado, chuvoso: \")\n",
        "if clima == \"ensolarado\":\n",
        "  print(\"Dia perfeito para sair\")\n",
        "elif clima == \"nublado\":\n",
        "  print(\"Aproveite o dia!\")\n",
        "elif clima == \"chuvoso\":\n",
        "  print(\"Leve um guarda-chuva\")"
      ],
      "metadata": {
        "colab": {
          "base_uri": "https://localhost:8080/"
        },
        "id": "b4E0M7UiQYi0",
        "outputId": "46f73efd-515e-49f0-9963-610fce4f07be"
      },
      "execution_count": null,
      "outputs": [
        {
          "output_type": "stream",
          "name": "stdout",
          "text": [
            "Informe como está o clima hoje ex.: ensolarado, nublado, chuvoso: nublado\n",
            "Aproveite o dia!\n"
          ]
        }
      ]
    },
    {
      "cell_type": "markdown",
      "source": [
        "15.\tClassificação Etária:\n",
        "Solicite a idade e classifique:\n",
        "o\tMenor que 12: \"Criança\"\n",
        "o\tEntre 12 e 17: \"Adolescente\"\n",
        "o\tEntre 18 e 64: \"Adulto\"\n",
        "o\t65 ou mais: \"Idoso\"\n"
      ],
      "metadata": {
        "id": "l_UZed8TQunt"
      }
    },
    {
      "cell_type": "code",
      "source": [
        "idade = input(\"Digite a idade: \")\n",
        "idade = int(idade)\n",
        "if idade < 12:\n",
        "  print(\"Criança\")\n",
        "elif idade >= 12 and idade <= 17:\n",
        "  print(\"Adolescente\")\n",
        "elif idade >= 18 and idade <= 64:\n",
        "  print(\"Adulto\")\n",
        "else:\n",
        "  print(\"Idoso\")"
      ],
      "metadata": {
        "id": "zKY0TS0rQykc"
      },
      "execution_count": null,
      "outputs": []
    },
    {
      "cell_type": "markdown",
      "source": [
        "16.\tNúmero no Intervalo (10 a 20):\n",
        "Solicite um número e, se ele estiver entre 10 e 20 (inclusive), exiba \"Número no intervalo\".\n"
      ],
      "metadata": {
        "id": "fm-acWpaRAxE"
      }
    },
    {
      "cell_type": "code",
      "source": [
        "num  = input(\"Digite um número: \")\n",
        "num = int(num)\n",
        "if num >= 10 and num <= 20:\n",
        "  print(\"Número no intervalo\")"
      ],
      "metadata": {
        "id": "3g3yVpEkRDwT"
      },
      "execution_count": null,
      "outputs": []
    },
    {
      "cell_type": "markdown",
      "source": [
        "17.\tNúmero Positivo e Par:\n",
        "Peça um número e, se ele for positivo e par, exiba \"Número positivo e par\".\n"
      ],
      "metadata": {
        "id": "VBxMhfK9RJqb"
      }
    },
    {
      "cell_type": "code",
      "source": [
        "num = input(\"Digite um número: \")\n",
        "num = int(num)\n",
        "if num > 0 and num % 2 == 0:\n",
        "  print(\"Número positivo e par\")"
      ],
      "metadata": {
        "id": "F7mC8k_mRQir"
      },
      "execution_count": null,
      "outputs": []
    },
    {
      "cell_type": "markdown",
      "source": [
        "18.\tAcesso com Documento:\n",
        "Solicite a idade e se o usuário possui documento (\"sim\" ou \"não\"). Se a idade for maior ou igual a 18 e a resposta for \"sim\", exiba \"Acesso permitido\".\n"
      ],
      "metadata": {
        "id": "kw-2ENi-Rdrs"
      }
    },
    {
      "cell_type": "code",
      "source": [
        "idade = input(\"Digite a idade: \")\n",
        "idade = int(idade)\n",
        "doc = input(\"Você possui documento? \")\n",
        "if idade >= 18 and doc == \"sim\":\n",
        "  print(\"Acesso permitido\")"
      ],
      "metadata": {
        "id": "Px6GQg6CRei7"
      },
      "execution_count": null,
      "outputs": []
    },
    {
      "cell_type": "markdown",
      "source": [
        "19.\tDesconto para Idosos ou Clientes com Cartão:\n",
        "Solicite a idade e se o cliente possui cartão de desconto (\"sim\" ou \"não\"). Se a idade for 65 ou mais ou se o cliente tiver o cartão, exiba \"Desconto aplicado\".\n"
      ],
      "metadata": {
        "id": "KUtN79KgRpFM"
      }
    },
    {
      "cell_type": "code",
      "source": [
        "idade = input(\"Digite a idade: \")\n",
        "idade = int(idade)\n",
        "cartao = input(\"Você possui cartão de desconto? \")\n",
        "if idade >= 65 or cartao == \"sim\":\n",
        "  print(\"Desconto aplicado\")"
      ],
      "metadata": {
        "id": "GlMvCThjRrr0"
      },
      "execution_count": null,
      "outputs": []
    },
    {
      "cell_type": "markdown",
      "source": [
        "20.\tAutorização para Votar:\n",
        "Solicite a idade e se o usuário possui impedimento para votar (\"sim\" ou \"não\"). Se a idade for maior ou igual a 16 e a resposta for \"não\", exiba \"Pode votar\".\n"
      ],
      "metadata": {
        "id": "0pYIGjvYR4w8"
      }
    },
    {
      "cell_type": "code",
      "source": [
        "idade = input(\"Digite a idade: \")\n",
        "idade = int(idade)\n",
        "imped = input(\"Você possui algum impedimento para votar (sim ou não)? \")\n",
        "if idade >=16 and imped == \"não\":\n",
        "  print(\"Pode votar\")\n"
      ],
      "metadata": {
        "id": "lCi0xrdDR8a0"
      },
      "execution_count": null,
      "outputs": []
    },
    {
      "cell_type": "markdown",
      "source": [
        "21.\tVerificação de Caracteres na Senha:\n",
        "Solicite uma senha e, se ela contiver pelo menos um dos caracteres \"!\", \"@\" ou \"#\" e além disso tiver mais de 10 caracteres exiba \"Senha forte\".\n"
      ],
      "metadata": {
        "id": "fJVrpWkhScjN"
      }
    },
    {
      "cell_type": "code",
      "source": [
        "senha  = input(\"Digite uma senha: \")\n",
        "if \"!\" in senha or \"@\" in senha or \"#\" in senha and len(senha) > 10:\n",
        "  print(\"Senha forte\")\n"
      ],
      "metadata": {
        "id": "6lnXPGYRSfSF"
      },
      "execution_count": null,
      "outputs": []
    },
    {
      "cell_type": "markdown",
      "source": [
        "22.\tNúmero Dentro do Intervalo (1 a 100) com Not:\n",
        "Solicite um número e, se não for menor que 1 e não for maior que 100, exiba \"Número dentro do intervalo de 1 a 100\". Utilize o operador not para simplificar a condição.\n"
      ],
      "metadata": {
        "id": "fiwwteR4SpJ0"
      }
    },
    {
      "cell_type": "code",
      "source": [
        "num  = input(\"Digite um número: \")\n",
        "num = int(num)\n",
        "if not (num < 1 or num > 100):\n",
        "  print(\"Número dentro do intervalo de 1 a 100\")"
      ],
      "metadata": {
        "id": "wJqpaBJmSwLc"
      },
      "execution_count": null,
      "outputs": []
    },
    {
      "cell_type": "markdown",
      "source": [
        "23.\tAprovação do Aluno:\n",
        "Solicite a nota e a frequência (em porcentagem) do aluno. Se a nota for maior ou igual a 6 e a frequência for maior ou igual a 75, exiba \"Aprovado\".\n"
      ],
      "metadata": {
        "id": "f6drKDNYS68M"
      }
    },
    {
      "cell_type": "code",
      "source": [
        "nota = input(\"Digite a nota: \")\n",
        "nota = int(nota)\n",
        "freq = input(\"Digite a frequência: \")\n",
        "freq = int(freq)\n",
        "if nota >= 6 and freq >= 75:\n",
        "  print(\"Aprovado\")"
      ],
      "metadata": {
        "id": "dEzDe1XQS_ZF"
      },
      "execution_count": null,
      "outputs": []
    },
    {
      "cell_type": "markdown",
      "source": [
        "24.\tRecuperação ou Reprovação:\n",
        "Solicite a nota e a frequência. Se a nota for menor que 6 e a frequência for maior ou igual a 75, exiba \"Faça a recuperação\"; se a nota for menor que 6 e a frequência for menor que 75, exiba \"Reprovado\". Se a nota for maior que 6 e a frequência maior que 75, exiba “Aprovado”.\n"
      ],
      "metadata": {
        "id": "CIBGtEaWTGh0"
      }
    },
    {
      "cell_type": "code",
      "source": [
        "nota = input(\"Digite a nota: \")\n",
        "nota = int(nota)\n",
        "freq = input(\"Digite a frequência: \")\n",
        "freq = int(freq)\n",
        "if nota < 6 and freq >= 75:\n",
        "  print(\"Faça a recuperação\")\n",
        "elif nota < 6 and freq < 75:\n",
        "  print(\"Reprovado\")\n",
        "elif nota >= 6 and freq > 75:\n",
        "  print(\"Aprovado\")\n",
        "else:\n",
        "  print(\"Reprovado\")"
      ],
      "metadata": {
        "colab": {
          "base_uri": "https://localhost:8080/"
        },
        "id": "8zL3RWGmTJm1",
        "outputId": "b545608e-51a3-477f-a30b-ac063b4719ca"
      },
      "execution_count": null,
      "outputs": [
        {
          "output_type": "stream",
          "name": "stdout",
          "text": [
            "Digite a nota: 7\n",
            "Digite a frequência: 80\n",
            "Aprovado\n"
          ]
        }
      ]
    },
    {
      "cell_type": "markdown",
      "source": [
        "25.\tAposentadoria:\n",
        "Solicite o ano de nascimento e o tempo de contribuição. Condições para aposentadoria:\n",
        "•\tSe a idade for maior ou igual a 65\n",
        "•\tIdade for maior ou igual a 60 e tempo de contribuição for maior ou igual a 30)\n",
        "Exiba \"Pode se aposentar\" se uma dessas condições for satisfeita.\n"
      ],
      "metadata": {
        "id": "kWWcOWJtUCF0"
      }
    },
    {
      "cell_type": "code",
      "source": [
        "nasc = input(\"Digite o ano de nascimento: \")\n",
        "nasc = int(nasc)\n",
        "idade = 2025 - nasc\n",
        "cont = input(\"Digite o tempo de contribuição: \")\n",
        "cont = int(cont)\n",
        "if idade >= 65 or (idade >= 60 and cont >= 30):\n",
        "  print(\"Pode se aposentar\")"
      ],
      "metadata": {
        "id": "RYt13YniUFlU"
      },
      "execution_count": null,
      "outputs": []
    },
    {
      "cell_type": "markdown",
      "source": [
        "26.\tAcesso ao Sistema:\n",
        "Solicite o login e a senha. Se o login for \"admin\" e a senha for \"1234\", exiba \"Acesso liberado\"; senão, exiba \"Acesso negado\".\n",
        "\n"
      ],
      "metadata": {
        "id": "MbOJznZ4UdnT"
      }
    },
    {
      "cell_type": "code",
      "source": [
        "login = input(\"Digite o login: \")\n",
        "senha = input(\"Digite a senha: \")\n",
        "if login == \"admin\" and senha == \"1234\":\n",
        "  print(\"Acesso liberado\")\n",
        "else:\n",
        "  print(\"Acesso negado\")"
      ],
      "metadata": {
        "id": "3jOtU7BKUgDr"
      },
      "execution_count": null,
      "outputs": []
    },
    {
      "cell_type": "markdown",
      "source": [
        "27.\tAno Bissexto:\n",
        "Solicite um ano e, se ele for divisível por 4 e (não divisível por 100 ou\n",
        "divisível por 400), exiba \"Ano bissexto\".\n",
        "(Utilize parênteses para deixar clara a precedência dos operadores.)\n"
      ],
      "metadata": {
        "id": "uupBTABuUqVL"
      }
    },
    {
      "cell_type": "code",
      "source": [
        "year = input(\"Digite um ano: \")\n",
        "year = int(year)\n",
        "if year % 4 == 0 and (year % 100 != 0 or year % 400 == 0):\n",
        "  print(\"Ano bissexto\")"
      ],
      "metadata": {
        "id": "5FNT7nX4UttE"
      },
      "execution_count": null,
      "outputs": []
    },
    {
      "cell_type": "markdown",
      "source": [
        "28.\tPromoção de Produto:\n",
        "Solicite o preço do produto e se ele está em estoque (\"sim\" ou \"não\"). Se o preço for menor que 50 e o produto estiver em estoque, exiba \"Produto em promoção\".\n"
      ],
      "metadata": {
        "id": "fiqHmjxCVksL"
      }
    },
    {
      "cell_type": "code",
      "source": [
        "preco = input(\"Digite o preço do produto: \")\n",
        "preco = int(preco)\n",
        "estoque = input(\"O produto está em estoque? \")\n",
        "if preco < 50 and estoque == \"sim\":\n",
        "  print(\"Produto em promoção\")"
      ],
      "metadata": {
        "id": "loSzk5W2Vmzz"
      },
      "execution_count": null,
      "outputs": []
    },
    {
      "cell_type": "markdown",
      "source": [
        "29.\tParticipação em Sorteio:\n",
        "Solicite a idade e se o usuário já participou de um sorteio (\"sim\" ou \"não\"). Se a idade for maior ou igual a 18 e a resposta for \"não\", exiba \"Pode participar do sorteio\".\n"
      ],
      "metadata": {
        "id": "GoXkow8HVw3L"
      }
    },
    {
      "cell_type": "code",
      "source": [
        "idade = input(\"Digite a idade: \")\n",
        "idade = int(idade)\n",
        "sorteio = input(\"Você já participou de um sorteio? \")\n",
        "if idade >= 18 and sorteio == \"não\":\n",
        "  print(\"Pode participar do sorteio\")"
      ],
      "metadata": {
        "id": "O0T9lZ0qVzLs"
      },
      "execution_count": null,
      "outputs": []
    },
    {
      "cell_type": "markdown",
      "source": [
        "30.\tBolsa de Estudos:\n",
        "Solicite a média do aluno, a renda familiar e se participa de atividades extracurriculares (\"sim\" ou \"não\"). Condições para ser elegível para bolsa:\n",
        "•\tmédia for maior ou igual a 8 e renda for menor que 3000\n",
        "•\tmédia for maior ou igual a 7 e participação for \"sim\"\n",
        "Se o aluno atende a qualquer um desses dois critérios, exiba \"Elegível para a bolsa\". Caso contrário exiba \"Não elegível para bolsa\"\n"
      ],
      "metadata": {
        "id": "De7D0WXjV-nT"
      }
    },
    {
      "cell_type": "code",
      "source": [
        "media = input(\"Digite a média do aluno: \")\n",
        "media = int(media)\n",
        "renda = input(\"Digite a renda familiar: \")\n",
        "renda = int(renda)\n",
        "extra = input(\"Você participa de atividades extracurriculares? \")\n",
        "if media >=8 and renda < 3000 or media >=7 and extra == \"sim\":\n",
        "  print(\"Elegível para bolsa\")\n",
        "else:\n",
        "  print(\"Não elegível para bolsa\")"
      ],
      "metadata": {
        "colab": {
          "base_uri": "https://localhost:8080/"
        },
        "id": "3_MuodgNWAmj",
        "outputId": "fc46845b-35bd-45a0-dcc5-6451ea4d0e19"
      },
      "execution_count": null,
      "outputs": [
        {
          "output_type": "stream",
          "name": "stdout",
          "text": [
            "Digite a média do aluno: 70\n",
            "Digite a renda familiar: 4000\n",
            "Você participa de atividades extracurriculares? sim\n",
            "Elegível para bolsa\n"
          ]
        }
      ]
    }
  ]
}